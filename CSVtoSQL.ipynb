{
 "cells": [
  {
   "cell_type": "code",
   "execution_count": 2,
   "id": "3da78634",
   "metadata": {},
   "outputs": [
    {
     "name": "stdout",
     "output_type": "stream",
     "text": [
      "Successfully written to Resources folder.\n"
     ]
    }
   ],
   "source": [
    "import sqlite3\n",
    "import pandas as pd\n",
    "import os\n",
    "\n",
    "#Read CSV data into a pandas DataFrame\n",
    "df = pd.read_csv(\"Resources/Customer-Churn-Records.csv\")\n",
    "\n",
    "#Set path for the SQLite database file\n",
    "db_path = os.path.join(\"Resources\", \"data.db\")\n",
    "\n",
    "#Create SQLite database connection\n",
    "conn = sqlite3.connect(db_path)\n",
    "\n",
    "#Write pandas DataFrame to SQLite table\n",
    "df.to_sql('data', conn, if_exists='replace', index=False)\n",
    "\n",
    "#Close database connection\n",
    "conn.close()\n",
    "\n",
    "#Check to see if success\n",
    "print(\"Successfully written to Resources folder.\")"
   ]
  }
 ],
 "metadata": {
  "kernelspec": {
   "display_name": "Python 3 (ipykernel)",
   "language": "python",
   "name": "python3"
  },
  "language_info": {
   "codemirror_mode": {
    "name": "ipython",
    "version": 3
   },
   "file_extension": ".py",
   "mimetype": "text/x-python",
   "name": "python",
   "nbconvert_exporter": "python",
   "pygments_lexer": "ipython3",
   "version": "3.10.13"
  }
 },
 "nbformat": 4,
 "nbformat_minor": 5
}
